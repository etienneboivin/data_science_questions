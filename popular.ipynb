{
 "cells": [
  {
   "cell_type": "markdown",
   "id": "563573c6",
   "metadata": {},
   "source": [
    "In this exercise, we're working for a company that creates data science content. Our task is to figure out the best content to write about. We'll be scouring the internet to find the answer to the question \"What is it that people want to learn about in data science?\"\n",
    "\n",
    "Stack Overflow is a question and answer website \n",
    "\n",
    "Stack Exchange employs a reputation award system for its questions and answers. Each post — each question/answer — is a post that is subject to upvotes and downvotes. This ensures that good posts are easily identifiable.\n",
    "\n",
    "We'll be focusing on the data science & statistics regions of the site:\n",
    "\n",
    "- __[Data Science](https://datascience.stackexchange.com/)__\n",
    "- __[Statistics](https://stats.stackexchange.com/)__\n",
    "- __[AI](https://ai.stackexchange.com/)__\n",
    "- __[Mathematics](https://math.stackexchange.com/)__\n",
    "- __[Stack Overflow](https://stackoverflow.com/)__\n",
    "- __[Database Administration](https://dba.stackexchange.com/)__\n",
    "- __[Unix](https://unix.stackexchange.com/)__\n",
    "- __[Software Engineering](https://softwareengineering.stackexchange.com/)__\n",
    "- __[Data Science](https://datascience.stackexchange.com/)__\n",
    "\n",
    "The following questions should be answered as we familiarize ourselves with the Data Science stackexchange:\n",
    "\n",
    "- What kind of questions are welcome on this site? **Questions should be: On topic, practical & answerable based on actual problems**\n",
    "- What, other than questions, does the site's homepage subdivide into? **Tags, users, companies, and unanswered.**\n",
    "    - Do any of them look useful to our goal? **Tags and Unanswered seem useful. We can sort tags by most popular topics.** \n",
    "- What information is available in each post? **Tags, title, when asked, when modified, views, upvotes, author, answers**"
   ]
  },
  {
   "cell_type": "markdown",
   "id": "74fb00e1",
   "metadata": {},
   "source": [
    "The `Posts`, `PostTags`, `TagSynonyms`, and `Tags` tables look most promising for giving us insight into what the most popular data science topics are."
   ]
  },
  {
   "cell_type": "markdown",
   "id": "eaab98c4",
   "metadata": {},
   "source": [
    "We start off by running a query on __[data.stackexchange.com](https://data.stackexchange.com/datascience/query/edit/1634280)__ query builder to get only the posts from 2019 with `PostTypeId=1` which corresponds to the post type \"question\". We'll now load this csv into our notebook."
   ]
  },
  {
   "cell_type": "code",
   "execution_count": 33,
   "id": "d7354da9",
   "metadata": {},
   "outputs": [],
   "source": [
    "import seaborn as sns\n",
    "import matplotlib.pyplot as plt\n",
    "import pandas as pd\n",
    "import numpy as np\n",
    "%matplotlib inline"
   ]
  },
  {
   "cell_type": "code",
   "execution_count": 34,
   "id": "e57d7581",
   "metadata": {},
   "outputs": [
    {
     "data": {
      "text/html": [
       "<div>\n",
       "<style scoped>\n",
       "    .dataframe tbody tr th:only-of-type {\n",
       "        vertical-align: middle;\n",
       "    }\n",
       "\n",
       "    .dataframe tbody tr th {\n",
       "        vertical-align: top;\n",
       "    }\n",
       "\n",
       "    .dataframe thead th {\n",
       "        text-align: right;\n",
       "    }\n",
       "</style>\n",
       "<table border=\"1\" class=\"dataframe\">\n",
       "  <thead>\n",
       "    <tr style=\"text-align: right;\">\n",
       "      <th></th>\n",
       "      <th>Id</th>\n",
       "      <th>CreationDate</th>\n",
       "      <th>Score</th>\n",
       "      <th>Tags</th>\n",
       "      <th>ViewCount</th>\n",
       "      <th>AnswerCount</th>\n",
       "      <th>FavoriteCount</th>\n",
       "    </tr>\n",
       "  </thead>\n",
       "  <tbody>\n",
       "    <tr>\n",
       "      <th>0</th>\n",
       "      <td>55523</td>\n",
       "      <td>2019-07-11 18:04:19</td>\n",
       "      <td>1</td>\n",
       "      <td>&lt;machine-learning&gt;&lt;discriminant-analysis&gt;</td>\n",
       "      <td>337</td>\n",
       "      <td>1</td>\n",
       "      <td>1.0</td>\n",
       "    </tr>\n",
       "    <tr>\n",
       "      <th>1</th>\n",
       "      <td>55525</td>\n",
       "      <td>2019-07-11 18:22:35</td>\n",
       "      <td>0</td>\n",
       "      <td>&lt;lightgbm&gt;</td>\n",
       "      <td>37</td>\n",
       "      <td>1</td>\n",
       "      <td>NaN</td>\n",
       "    </tr>\n",
       "    <tr>\n",
       "      <th>2</th>\n",
       "      <td>55526</td>\n",
       "      <td>2019-07-11 18:23:23</td>\n",
       "      <td>1</td>\n",
       "      <td>&lt;machine-learning&gt;&lt;scikit-learn&gt;&lt;clustering&gt;&lt;f...</td>\n",
       "      <td>40</td>\n",
       "      <td>1</td>\n",
       "      <td>1.0</td>\n",
       "    </tr>\n",
       "    <tr>\n",
       "      <th>3</th>\n",
       "      <td>55527</td>\n",
       "      <td>2019-07-11 20:28:22</td>\n",
       "      <td>1</td>\n",
       "      <td>&lt;neural-network&gt;&lt;keras&gt;&lt;batch-normalization&gt;&lt;k...</td>\n",
       "      <td>1574</td>\n",
       "      <td>2</td>\n",
       "      <td>NaN</td>\n",
       "    </tr>\n",
       "    <tr>\n",
       "      <th>4</th>\n",
       "      <td>55529</td>\n",
       "      <td>2019-07-11 20:29:40</td>\n",
       "      <td>5</td>\n",
       "      <td>&lt;machine-learning&gt;&lt;deep-learning&gt;&lt;image-recogn...</td>\n",
       "      <td>133</td>\n",
       "      <td>1</td>\n",
       "      <td>1.0</td>\n",
       "    </tr>\n",
       "  </tbody>\n",
       "</table>\n",
       "</div>"
      ],
      "text/plain": [
       "      Id         CreationDate  Score  \\\n",
       "0  55523  2019-07-11 18:04:19      1   \n",
       "1  55525  2019-07-11 18:22:35      0   \n",
       "2  55526  2019-07-11 18:23:23      1   \n",
       "3  55527  2019-07-11 20:28:22      1   \n",
       "4  55529  2019-07-11 20:29:40      5   \n",
       "\n",
       "                                                Tags  ViewCount  AnswerCount  \\\n",
       "0          <machine-learning><discriminant-analysis>        337            1   \n",
       "1                                         <lightgbm>         37            1   \n",
       "2  <machine-learning><scikit-learn><clustering><f...         40            1   \n",
       "3  <neural-network><keras><batch-normalization><k...       1574            2   \n",
       "4  <machine-learning><deep-learning><image-recogn...        133            1   \n",
       "\n",
       "   FavoriteCount  \n",
       "0            1.0  \n",
       "1            NaN  \n",
       "2            1.0  \n",
       "3            NaN  \n",
       "4            1.0  "
      ]
     },
     "execution_count": 34,
     "metadata": {},
     "output_type": "execute_result"
    }
   ],
   "source": [
    "questions = pd.read_csv(\"2019_questions.csv\")\n",
    "questions.head()"
   ]
  },
  {
   "cell_type": "markdown",
   "id": "d725e990",
   "metadata": {},
   "source": [
    "We can see that `FavoriteCount` seems to be missing values. A lot of values, in fact! More than the number of regular valuesall the other rows put together."
   ]
  },
  {
   "cell_type": "code",
   "execution_count": 35,
   "id": "78119651",
   "metadata": {
    "scrolled": true
   },
   "outputs": [
    {
     "name": "stdout",
     "output_type": "stream",
     "text": [
      "<class 'pandas.core.frame.DataFrame'>\n",
      "RangeIndex: 6756 entries, 0 to 6755\n",
      "Data columns (total 7 columns):\n",
      " #   Column         Non-Null Count  Dtype  \n",
      "---  ------         --------------  -----  \n",
      " 0   Id             6756 non-null   int64  \n",
      " 1   CreationDate   6756 non-null   object \n",
      " 2   Score          6756 non-null   int64  \n",
      " 3   Tags           6756 non-null   object \n",
      " 4   ViewCount      6756 non-null   int64  \n",
      " 5   AnswerCount    6756 non-null   int64  \n",
      " 6   FavoriteCount  1769 non-null   float64\n",
      "dtypes: float64(1), int64(4), object(2)\n",
      "memory usage: 369.6+ KB\n"
     ]
    }
   ],
   "source": [
    "questions.info()"
   ]
  },
  {
   "cell_type": "markdown",
   "id": "198a7f28",
   "metadata": {},
   "source": [
    "Luckily, this seems to be the only feature with null values.\n",
    "\n",
    "We can also see that `Tags` is an object type consisting of multiple tags as opposed to individual values or lists of values. Our next goal will be to clean this column.\n",
    "\n",
    "We can accomplish this by removing each opening tag and each backslash, and replacing closing tags by commas. This will leave us with a comma-separated list of tags that is easy to perform operations on."
   ]
  },
  {
   "cell_type": "code",
   "execution_count": 36,
   "id": "85f4164d",
   "metadata": {},
   "outputs": [
    {
     "name": "stderr",
     "output_type": "stream",
     "text": [
      "/tmp/ipykernel_12749/833902828.py:1: FutureWarning: The default value of regex will change from True to False in a future version.\n",
      "  questions[\"Tags\"] = questions[\"Tags\"].str.replace(\"^<|>$\", \"\").str.split(\"><\")\n"
     ]
    }
   ],
   "source": [
    "questions[\"Tags\"] = questions[\"Tags\"].str.replace(\"^<|>$\", \"\").str.split(\"><\")"
   ]
  },
  {
   "cell_type": "code",
   "execution_count": 37,
   "id": "687d61de",
   "metadata": {},
   "outputs": [
    {
     "data": {
      "text/plain": [
       "0            [machine-learning, discriminant-analysis]\n",
       "1                                           [lightgbm]\n",
       "2    [machine-learning, scikit-learn, clustering, f...\n",
       "3    [neural-network, keras, batch-normalization, k...\n",
       "4    [machine-learning, deep-learning, image-recogn...\n",
       "Name: Tags, dtype: object"
      ]
     },
     "execution_count": 37,
     "metadata": {},
     "output_type": "execute_result"
    }
   ],
   "source": [
    "questions[\"Tags\"].head()"
   ]
  },
  {
   "cell_type": "markdown",
   "id": "7a561e81",
   "metadata": {},
   "source": [
    "We'll also clean up a few more columns. `FavoriteCount` will only ever be a whole number, so let's make it an `int`. `CreationDate` should be a datetime object for ease of use."
   ]
  },
  {
   "cell_type": "code",
   "execution_count": 38,
   "id": "ceee8049",
   "metadata": {},
   "outputs": [],
   "source": [
    "questions[\"FavoriteCount\"] = questions[\"FavoriteCount\"].fillna(0).astype(\"int\")\n",
    "questions[\"CreationDate\"] = pd.to_datetime(questions[\"CreationDate\"])"
   ]
  },
  {
   "cell_type": "code",
   "execution_count": 39,
   "id": "38efb9bb",
   "metadata": {},
   "outputs": [
    {
     "name": "stdout",
     "output_type": "stream",
     "text": [
      "<class 'pandas.core.frame.DataFrame'>\n",
      "RangeIndex: 6756 entries, 0 to 6755\n",
      "Data columns (total 7 columns):\n",
      " #   Column         Non-Null Count  Dtype         \n",
      "---  ------         --------------  -----         \n",
      " 0   Id             6756 non-null   int64         \n",
      " 1   CreationDate   6756 non-null   datetime64[ns]\n",
      " 2   Score          6756 non-null   int64         \n",
      " 3   Tags           6756 non-null   object        \n",
      " 4   ViewCount      6756 non-null   int64         \n",
      " 5   AnswerCount    6756 non-null   int64         \n",
      " 6   FavoriteCount  6756 non-null   int64         \n",
      "dtypes: datetime64[ns](1), int64(5), object(1)\n",
      "memory usage: 369.6+ KB\n"
     ]
    }
   ],
   "source": [
    "questions.info()"
   ]
  },
  {
   "cell_type": "markdown",
   "id": "5de63b87",
   "metadata": {},
   "source": [
    "The data is now ready for analysis!\n",
    "\n",
    "We'll worry about two types of tags: the ones viewed the most, and the ones used the most."
   ]
  },
  {
   "cell_type": "code",
   "execution_count": 40,
   "id": "6c53d6fc",
   "metadata": {},
   "outputs": [],
   "source": [
    "tag_count = dict()"
   ]
  },
  {
   "cell_type": "code",
   "execution_count": 41,
   "id": "5732c170",
   "metadata": {},
   "outputs": [
    {
     "data": {
      "text/plain": [
       "<AxesSubplot:>"
      ]
     },
     "execution_count": 41,
     "metadata": {},
     "output_type": "execute_result"
    },
    {
     "data": {
      "image/png": "[encoded data removed]",
      "text/plain": [
       "<Figure size 864x432 with 1 Axes>"
      ]
     },
     "metadata": {
      "needs_background": "light"
     },
     "output_type": "display_data"
    }
   ],
   "source": [
    "for tags in questions[\"Tags\"]:\n",
    "    for tag in tags:\n",
    "        if tag in tag_count:\n",
    "            tag_count[tag] += 1\n",
    "        else:\n",
    "            tag_count[tag] = 1\n",
    "            \n",
    "tag_count = pd.DataFrame.from_dict(tag_count, orient=\"index\")\n",
    "\n",
    "tag_count.rename({0: \"TagCount\"}, axis=\"columns\", inplace=True)\n",
    "tag_count.sort_values(by=\"TagCount\", inplace=True, ascending=False)\n",
    "tag_count_top_20 = tag_count.head(20)\n",
    "tag_count_top_20.plot(kind=\"barh\", figsize=(12, 6))"
   ]
  },
  {
   "cell_type": "code",
   "execution_count": null,
   "id": "d488b214",
   "metadata": {},
   "outputs": [],
   "source": []
  },
  {
   "cell_type": "code",
   "execution_count": 42,
   "id": "07cbcc73",
   "metadata": {},
   "outputs": [
    {
     "data": {
      "text/plain": [
       "<AxesSubplot:>"
      ]
     },
     "execution_count": 42,
     "metadata": {},
     "output_type": "execute_result"
    },
    {
     "data": {
      "image/png": "[encoded data removed]",
      "text/plain": [
       "<Figure size 864x432 with 1 Axes>"
      ]
     },
     "metadata": {
      "needs_background": "light"
     },
     "output_type": "display_data"
    }
   ],
   "source": [
    "view_count = dict()\n",
    "\n",
    "for index, row in questions.iterrows():\n",
    "    for tag in row[\"Tags\"]:\n",
    "        if tag in view_count:\n",
    "            view_count[tag] += row[\"ViewCount\"]\n",
    "        else:\n",
    "            view_count[tag] = row[\"ViewCount\"]\n",
    "\n",
    "view_count = pd.DataFrame.from_dict(view_count, orient=\"index\")\n",
    "view_count.rename({0: \"ViewCount\"}, axis=\"columns\", inplace=True)\n",
    "view_count.sort_values(by=\"ViewCount\", inplace=True, ascending=False)\n",
    "view_count_top_20 = view_count.head(20)\n",
    "view_count_top_20.plot(kind=\"barh\", figsize=(12, 6))"
   ]
  },
  {
   "cell_type": "markdown",
   "id": "bf66a29c",
   "metadata": {},
   "source": [
    "We'd also like to gauge how pairs of tags are related to each other. The method that comes to mind is simply to create a grid of how they're associated with each other:"
   ]
  },
  {
   "cell_type": "code",
   "execution_count": 43,
   "id": "b9e33a81",
   "metadata": {},
   "outputs": [],
   "source": [
    "all_tags = list(tag_count.index)"
   ]
  },
  {
   "cell_type": "code",
   "execution_count": 44,
   "id": "ff99930d",
   "metadata": {},
   "outputs": [],
   "source": [
    "associations = pd.DataFrame(index=all_tags, columns=all_tags)"
   ]
  },
  {
   "cell_type": "code",
   "execution_count": 45,
   "id": "73f24308",
   "metadata": {},
   "outputs": [
    {
     "data": {
      "text/plain": [
       "0               [machine-learning, discriminant-analysis]\n",
       "1                                              [lightgbm]\n",
       "2       [machine-learning, scikit-learn, clustering, f...\n",
       "3       [neural-network, keras, batch-normalization, k...\n",
       "4       [machine-learning, deep-learning, image-recogn...\n",
       "                              ...                        \n",
       "6751                 [python, data-mining, visualization]\n",
       "6752                                [feature-engineering]\n",
       "6753    [classification, random-forest, accuracy, clas...\n",
       "6754                                   [machine-learning]\n",
       "6755                                 [deep-learning, nlp]\n",
       "Name: Tags, Length: 6756, dtype: object"
      ]
     },
     "execution_count": 45,
     "metadata": {},
     "output_type": "execute_result"
    }
   ],
   "source": [
    "questions[\"Tags\"]"
   ]
  },
  {
   "cell_type": "code",
   "execution_count": 46,
   "id": "df51ea53",
   "metadata": {},
   "outputs": [],
   "source": [
    "associations.fillna(0, inplace=True)\n",
    "\n",
    "for tags in questions[\"Tags\"]:\n",
    "    associations.loc[tags, tags] += 1"
   ]
  },
  {
   "cell_type": "code",
   "execution_count": 47,
   "id": "70d5c750",
   "metadata": {},
   "outputs": [],
   "source": [
    "relations_most_used = associations.loc[tag_count_top_20.index, tag_count_top_20.index]"
   ]
  },
  {
   "cell_type": "code",
   "execution_count": 48,
   "id": "645e4fd7",
   "metadata": {},
   "outputs": [
    {
     "data": {
      "text/plain": [
       "<AxesSubplot:>"
      ]
     },
     "execution_count": 48,
     "metadata": {},
     "output_type": "execute_result"
    },
    {
     "data": {
      "image/png": "[encoded data removed]",
      "text/plain": [
       "<Figure size 432x288 with 2 Axes>"
      ]
     },
     "metadata": {
      "needs_background": "light"
     },
     "output_type": "display_data"
    }
   ],
   "source": [
    "sns.heatmap(relations_most_used, cmap=\"Greens\")"
   ]
  },
  {
   "cell_type": "markdown",
   "id": "c54d9c04",
   "metadata": {},
   "source": [
    "It's clear that the values along the diagonal are skewing the data too much. Let's remove them."
   ]
  },
  {
   "cell_type": "code",
   "execution_count": 49,
   "id": "736a03a3",
   "metadata": {},
   "outputs": [],
   "source": [
    "for i in range(relations_most_used.shape[0]):\n",
    "    relations_most_used.iloc[i,i] = np.NaN"
   ]
  },
  {
   "cell_type": "code",
   "execution_count": 50,
   "id": "7644c2df",
   "metadata": {},
   "outputs": [
    {
     "data": {
      "text/plain": [
       "<AxesSubplot:>"
      ]
     },
     "execution_count": 50,
     "metadata": {},
     "output_type": "execute_result"
    },
    {
     "data": {
      "image/png": "[encoded data removed]",
      "text/plain": [
       "<Figure size 864x576 with 2 Axes>"
      ]
     },
     "metadata": {
      "needs_background": "light"
     },
     "output_type": "display_data"
    }
   ],
   "source": [
    "plt.figure(figsize=(12,8))\n",
    "sns.heatmap(relations_most_used, cmap=\"Greens\")"
   ]
  },
  {
   "cell_type": "markdown",
   "id": "86d1d829",
   "metadata": {},
   "source": [
    "Finally, is deep learning a fad? Let's do the following:\n",
    "- Count how many deep learning questions are asked per time period\n",
    "- The total amount of questions per time period\n",
    "- How many deep learning questions there are relative to the total amount of questions per time period"
   ]
  },
  {
   "cell_type": "code",
   "execution_count": 51,
   "id": "66f1bbe0",
   "metadata": {},
   "outputs": [],
   "source": [
    "all_q = pd.read_csv(\"all_questions.csv\")"
   ]
  },
  {
   "cell_type": "code",
   "execution_count": 52,
   "id": "db1b92a6",
   "metadata": {},
   "outputs": [
    {
     "name": "stderr",
     "output_type": "stream",
     "text": [
      "/tmp/ipykernel_12749/2237001868.py:1: FutureWarning: The default value of regex will change from True to False in a future version.\n",
      "  all_q[\"Tags\"] = all_q[\"Tags\"].str.replace(\"^<|>$\", \"\").str.split(\"><\")\n"
     ]
    }
   ],
   "source": [
    "all_q[\"Tags\"] = all_q[\"Tags\"].str.replace(\"^<|>$\", \"\").str.split(\"><\")\n",
    "all_q[\"CreationDate\"] = pd.to_datetime(all_q[\"CreationDate\"])"
   ]
  },
  {
   "cell_type": "code",
   "execution_count": 53,
   "id": "c6381481",
   "metadata": {},
   "outputs": [
    {
     "data": {
      "text/html": [
       "<div>\n",
       "<style scoped>\n",
       "    .dataframe tbody tr th:only-of-type {\n",
       "        vertical-align: middle;\n",
       "    }\n",
       "\n",
       "    .dataframe tbody tr th {\n",
       "        vertical-align: top;\n",
       "    }\n",
       "\n",
       "    .dataframe thead th {\n",
       "        text-align: right;\n",
       "    }\n",
       "</style>\n",
       "<table border=\"1\" class=\"dataframe\">\n",
       "  <thead>\n",
       "    <tr style=\"text-align: right;\">\n",
       "      <th></th>\n",
       "      <th>Id</th>\n",
       "      <th>CreationDate</th>\n",
       "      <th>Tags</th>\n",
       "    </tr>\n",
       "  </thead>\n",
       "  <tbody>\n",
       "    <tr>\n",
       "      <th>0</th>\n",
       "      <td>28636</td>\n",
       "      <td>2018-03-05 11:05:12</td>\n",
       "      <td>[machine-learning, python, neural-network, cla...</td>\n",
       "    </tr>\n",
       "    <tr>\n",
       "      <th>1</th>\n",
       "      <td>28637</td>\n",
       "      <td>2018-03-05 11:12:06</td>\n",
       "      <td>[neural-network, deep-learning, dropout]</td>\n",
       "    </tr>\n",
       "    <tr>\n",
       "      <th>2</th>\n",
       "      <td>28639</td>\n",
       "      <td>2018-03-05 11:59:59</td>\n",
       "      <td>[machine-learning, clustering, dataset, k-means]</td>\n",
       "    </tr>\n",
       "    <tr>\n",
       "      <th>3</th>\n",
       "      <td>28650</td>\n",
       "      <td>2018-03-05 16:05:31</td>\n",
       "      <td>[scikit-learn, linear-regression, feature-engi...</td>\n",
       "    </tr>\n",
       "    <tr>\n",
       "      <th>4</th>\n",
       "      <td>28656</td>\n",
       "      <td>2018-03-05 17:48:23</td>\n",
       "      <td>[plotting]</td>\n",
       "    </tr>\n",
       "  </tbody>\n",
       "</table>\n",
       "</div>"
      ],
      "text/plain": [
       "      Id        CreationDate  \\\n",
       "0  28636 2018-03-05 11:05:12   \n",
       "1  28637 2018-03-05 11:12:06   \n",
       "2  28639 2018-03-05 11:59:59   \n",
       "3  28650 2018-03-05 16:05:31   \n",
       "4  28656 2018-03-05 17:48:23   \n",
       "\n",
       "                                                Tags  \n",
       "0  [machine-learning, python, neural-network, cla...  \n",
       "1           [neural-network, deep-learning, dropout]  \n",
       "2   [machine-learning, clustering, dataset, k-means]  \n",
       "3  [scikit-learn, linear-regression, feature-engi...  \n",
       "4                                         [plotting]  "
      ]
     },
     "execution_count": 53,
     "metadata": {},
     "output_type": "execute_result"
    }
   ],
   "source": [
    "all_q.head()"
   ]
  },
  {
   "cell_type": "markdown",
   "id": "141c8591",
   "metadata": {},
   "source": [
    "We'll investigate the popularity of the following tags: `deep-learning, neural-network, keras, tensorflow, lstm, cnn`."
   ]
  },
  {
   "cell_type": "code",
   "execution_count": 54,
   "id": "c3da8a43",
   "metadata": {},
   "outputs": [],
   "source": [
    "def class_deep_learning(tags):\n",
    "    for tag in tags:\n",
    "        if tag in [\"deep-learning\", \"neural-network\", \"keras\", \"tensorflow\", \"lstm\", \"cnn\"]:\n",
    "            return 1\n",
    "    return 0\n",
    "\n",
    "all_q[\"is_deep_learning\"] = all_q[\"Tags\"].apply(class_deep_learning)\n",
    "all_q = all_q[all_q[\"CreationDate\"].dt.year < 2020]\n",
    "    "
   ]
  },
  {
   "cell_type": "markdown",
   "id": "b76b78bd",
   "metadata": {},
   "source": [
    "We'll work with a quarter-by-quarter analysis of the data. Anything less will be too granular."
   ]
  },
  {
   "cell_type": "code",
   "execution_count": 55,
   "id": "cb15e7b8",
   "metadata": {},
   "outputs": [],
   "source": [
    "def get_quarter(date):\n",
    "    year = str(date.year)[-2:]\n",
    "    quarter = str((date.month-1) // 3 + 1)\n",
    "    return \"{y}Q{q}\".format(y=year, q=quarter)"
   ]
  },
  {
   "cell_type": "code",
   "execution_count": 56,
   "id": "51b7c731",
   "metadata": {},
   "outputs": [],
   "source": [
    "all_q[\"Quarter\"] = all_q[\"CreationDate\"].apply(get_quarter)"
   ]
  },
  {
   "cell_type": "code",
   "execution_count": 57,
   "id": "4a986e68",
   "metadata": {},
   "outputs": [
    {
     "data": {
      "text/plain": [
       "19Q2    1785\n",
       "19Q3    1742\n",
       "19Q1    1732\n",
       "19Q4    1497\n",
       "18Q3    1446\n",
       "18Q2    1416\n",
       "18Q4    1265\n",
       "18Q1    1199\n",
       "17Q4     887\n",
       "17Q3     707\n",
       "17Q1     690\n",
       "17Q2     633\n",
       "16Q3     575\n",
       "16Q4     518\n",
       "16Q1     510\n",
       "16Q2     510\n",
       "15Q4     379\n",
       "15Q3     310\n",
       "15Q2     284\n",
       "14Q4     214\n",
       "15Q1     188\n",
       "14Q3     188\n",
       "14Q2     157\n",
       "Name: Quarter, dtype: int64"
      ]
     },
     "execution_count": 57,
     "metadata": {},
     "output_type": "execute_result"
    }
   ],
   "source": [
    "all_q[\"Quarter\"].value_counts()"
   ]
  },
  {
   "cell_type": "code",
   "execution_count": 58,
   "id": "9d913dfc",
   "metadata": {},
   "outputs": [
    {
     "data": {
      "text/plain": [
       "Quarter\n",
       "14Q2      7\n",
       "14Q3      8\n",
       "14Q4     15\n",
       "15Q1     13\n",
       "15Q2     20\n",
       "15Q3     28\n",
       "15Q4     52\n",
       "16Q1     79\n",
       "16Q2     78\n",
       "16Q3    119\n",
       "16Q4    139\n",
       "17Q1    208\n",
       "17Q2    186\n",
       "17Q3    206\n",
       "17Q4    290\n",
       "18Q1    454\n",
       "18Q2    489\n",
       "18Q3    594\n",
       "18Q4    441\n",
       "19Q1    597\n",
       "19Q2    577\n",
       "19Q3    548\n",
       "19Q4    505\n",
       "Name: is_deep_learning, dtype: int64"
      ]
     },
     "execution_count": 58,
     "metadata": {},
     "output_type": "execute_result"
    }
   ],
   "source": [
    "all_q.groupby(by=\"Quarter\")[\"is_deep_learning\"].sum()"
   ]
  },
  {
   "cell_type": "markdown",
   "id": "094cac25-6d86-46ee-a683-d035f98154b6",
   "metadata": {},
   "source": [
    "Finally, we'll group by quarter and:\n",
    "- Count the number of deep learning questions\n",
    "- Count the total number of questions\n",
    "- Compute the ratio of the two numbers above."
   ]
  },
  {
   "cell_type": "code",
   "execution_count": 60,
   "id": "e9d26201-bbd0-4752-83b7-b795883a69e7",
   "metadata": {},
   "outputs": [
    {
     "data": {
      "text/html": [
       "<div>\n",
       "<style scoped>\n",
       "    .dataframe tbody tr th:only-of-type {\n",
       "        vertical-align: middle;\n",
       "    }\n",
       "\n",
       "    .dataframe tbody tr th {\n",
       "        vertical-align: top;\n",
       "    }\n",
       "\n",
       "    .dataframe thead th {\n",
       "        text-align: right;\n",
       "    }\n",
       "</style>\n",
       "<table border=\"1\" class=\"dataframe\">\n",
       "  <thead>\n",
       "    <tr style=\"text-align: right;\">\n",
       "      <th></th>\n",
       "      <th>Quarter</th>\n",
       "      <th>DeepLearningQuestions</th>\n",
       "      <th>TotalQuestions</th>\n",
       "      <th>DeepLearningRate</th>\n",
       "    </tr>\n",
       "  </thead>\n",
       "  <tbody>\n",
       "    <tr>\n",
       "      <th>14</th>\n",
       "      <td>17Q4</td>\n",
       "      <td>290</td>\n",
       "      <td>887</td>\n",
       "      <td>0.326945</td>\n",
       "    </tr>\n",
       "    <tr>\n",
       "      <th>3</th>\n",
       "      <td>15Q1</td>\n",
       "      <td>13</td>\n",
       "      <td>188</td>\n",
       "      <td>0.069149</td>\n",
       "    </tr>\n",
       "    <tr>\n",
       "      <th>17</th>\n",
       "      <td>18Q3</td>\n",
       "      <td>594</td>\n",
       "      <td>1446</td>\n",
       "      <td>0.410788</td>\n",
       "    </tr>\n",
       "    <tr>\n",
       "      <th>15</th>\n",
       "      <td>18Q1</td>\n",
       "      <td>454</td>\n",
       "      <td>1199</td>\n",
       "      <td>0.378649</td>\n",
       "    </tr>\n",
       "    <tr>\n",
       "      <th>18</th>\n",
       "      <td>18Q4</td>\n",
       "      <td>441</td>\n",
       "      <td>1265</td>\n",
       "      <td>0.348617</td>\n",
       "    </tr>\n",
       "  </tbody>\n",
       "</table>\n",
       "</div>"
      ],
      "text/plain": [
       "   Quarter  DeepLearningQuestions  TotalQuestions  DeepLearningRate\n",
       "14    17Q4                    290             887          0.326945\n",
       "3     15Q1                     13             188          0.069149\n",
       "17    18Q3                    594            1446          0.410788\n",
       "15    18Q1                    454            1199          0.378649\n",
       "18    18Q4                    441            1265          0.348617"
      ]
     },
     "execution_count": 60,
     "metadata": {},
     "output_type": "execute_result"
    }
   ],
   "source": [
    "quarterly = all_q.groupby('Quarter').agg({\"is_deep_learning\": ['sum', 'size']})\n",
    "quarterly.columns = [\"DeepLearningQuestions\", \"TotalQuestions\"]\n",
    "quarterly[\"DeepLearningRate\"] = quarterly[\"DeepLearningQuestions\"] / quarterly[\"TotalQuestions\"]\n",
    "\n",
    "quarterly.reset_index(inplace=True)\n",
    "quarterly.sample(5)"
   ]
  },
  {
   "cell_type": "code",
   "execution_count": 61,
   "id": "192a2df9-f195-4616-a526-d8563c2b085a",
   "metadata": {},
   "outputs": [
    {
     "data": {
      "image/png": "[encoded data removed]",
      "text/plain": [
       "<Figure size 1728x864 with 2 Axes>"
      ]
     },
     "metadata": {
      "needs_background": "light"
     },
     "output_type": "display_data"
    }
   ],
   "source": [
    "ax1 = quarterly.plot(x=\"Quarter\", y=\"DeepLearningRate\",\n",
    "                    kind=\"line\", linestyle=\"-\", marker=\"o\", color=\"orange\",\n",
    "                    figsize=(24,12)\n",
    "                    )\n",
    "\n",
    "ax2 = quarterly.plot(x=\"Quarter\", y=\"TotalQuestions\",\n",
    "                     kind=\"bar\", ax=ax1, secondary_y=True, alpha=0.7, rot=45)\n",
    "\n",
    "for idx, t in quarterly[\"TotalQuestions\"].iteritems():\n",
    "    ax2.text(idx, t, str(t), ha=\"center\", va=\"bottom\")\n",
    "xlims = ax1.get_xlim()\n",
    "\n",
    "ax1.get_legend().remove()\n",
    "\n",
    "handles1, labels1 = ax1.get_legend_handles_labels()\n",
    "handles2, labels2 = ax2.get_legend_handles_labels()\n",
    "ax1.legend(handles=handles1 + handles2,\n",
    "           labels=labels1 + labels2,\n",
    "           loc=\"upper left\", prop={\"size\": 12})\n",
    "\n",
    "\n",
    "for ax in (ax1, ax2):\n",
    "    for where in (\"top\", \"right\"):\n",
    "        ax.spines[where].set_visible(False)\n",
    "        ax.tick_params(right=False, labelright=False)"
   ]
  },
  {
   "cell_type": "markdown",
   "id": "5e455bea",
   "metadata": {},
   "source": [
    "Deep learning is not just a fad! There's a trend of high growth from the inception of Data Science Stack Exchange. It looks like it is plateauing, but no evidence suggests that interest is decreasing and the proposal to continue making data science content should be accepted."
   ]
  },
  {
   "cell_type": "code",
   "execution_count": null,
   "id": "f9e329be",
   "metadata": {},
   "outputs": [],
   "source": []
  }
 ],
 "metadata": {
  "kernelspec": {
   "display_name": "Python 3 (ipykernel)",
   "language": "python",
   "name": "python3"
  },
  "language_info": {
   "codemirror_mode": {
    "name": "ipython",
    "version": 3
   },
   "file_extension": ".py",
   "mimetype": "text/x-python",
   "name": "python",
   "nbconvert_exporter": "python",
   "pygments_lexer": "ipython3",
   "version": "3.9.12"
  }
 },
 "nbformat": 4,
 "nbformat_minor": 5
}
